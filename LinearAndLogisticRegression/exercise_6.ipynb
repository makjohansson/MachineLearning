{
 "cells": [
  {
   "cell_type": "markdown",
   "metadata": {},
   "source": [
    " ## Exercise 6: Forward selection"
   ]
  },
  {
   "cell_type": "code",
   "execution_count": 1,
   "metadata": {},
   "outputs": [],
   "source": [
    "import numpy as np\n",
    "from sklearn.model_selection import cross_val_score\n",
    "from sklearn.linear_model import LinearRegression\n",
    "import utils\n",
    "\n",
    "X = np.loadtxt('A2_datasets_2020/GPUbenchmark.csv', delimiter=',', usecols=(0,1,2,3,4,5))\n",
    "y = np.loadtxt('A2_datasets_2020/GPUbenchmark.csv', delimiter=',', usecols=6)\n",
    "\n",
    "X_copy = np.copy(X)\n",
    "clf = LinearRegression(fit_intercept=False)"
   ]
  },
  {
   "cell_type": "markdown",
   "metadata": {},
   "source": [
    "<ul>\n",
    "   <li>Implementation of the forward selection algorithm</li>\n",
    "</ul>"
   ]
  },
  {
   "cell_type": "code",
   "execution_count": 2,
   "metadata": {},
   "outputs": [],
   "source": [
    "temp = np.ones(len(X))\n",
    "for k in range(0, X_copy.shape[1]):\n",
    "    mse = -1\n",
    "    list_mse = []\n",
    "    for p in range(0, X_copy.shape[1]):\n",
    "        train = np.c_[temp, X_copy[:,p]]\n",
    "        beta = utils.normal_equation(train, y)\n",
    "        mse = utils.cost_function(train , y, beta)\n",
    "        list_mse.append(mse)\n",
    "    best_mse = list_mse.index(min(list_mse))\n",
    "    temp = np.c_[temp, X_copy[:, (best_mse)]]\n",
    "    X_copy = np.delete(X_copy, best_mse, axis=1)"
   ]
  },
  {
   "cell_type": "markdown",
   "metadata": {},
   "source": [
    "<ul>\n",
    "   <li>Make a cross validation to find the best model produced by the __Forward selelection algotitm\n",
    "</ul>"
   ]
  },
  {
   "cell_type": "code",
   "execution_count": 4,
   "metadata": {},
   "outputs": [
    {
     "name": "stdout",
     "output_type": "stream",
     "text": [
      "Model 1: -347.09\n",
      "Model 2: -124.65\n",
      "Model 3: -100.39\n",
      "Model 4: -46.94\n",
      "Model 5: -34.19\n",
      "Model 6: -42.69\n",
      "Score on features using Model 5: 1357837.21\n",
      "Score on features using Model 5: 1597564.61\n",
      "Score on features using Model 5: 0.0\n",
      "Score on features using Model 5: 13.45\n",
      "Score on features using Model 5: 56618.55\n"
     ]
    }
   ],
   "source": [
    "clf = LinearRegression(fit_intercept=False)\n",
    "for i in range(1, 7):\n",
    "    score = cross_val_score(clf, temp[:,0:i+1], y, cv=3, scoring='neg_mean_squared_error')\n",
    "    print(f'Model {i}: {np.round(score.mean(), 2)}')\n",
    "\n",
    "f = 5\n",
    "for i in range(1, temp.shape[1] - 1):\n",
    "    score = np.square(np.subtract(temp[:,f], X[:,i])).mean()\n",
    "    print('Score on features using Model 5:', np.round(score, 2))"
   ]
  },
  {
   "cell_type": "markdown",
   "metadata": {},
   "source": [
    "<ul>\n",
    "    <li>The third feature is the most important and Model 5 is the best model</li>\n",
    "</ul>"
   ]
  }
 ],
 "metadata": {
  "kernelspec": {
   "display_name": "Python 3",
   "language": "python",
   "name": "python3"
  },
  "language_info": {
   "codemirror_mode": {
    "name": "ipython",
    "version": 3
   },
   "file_extension": ".py",
   "mimetype": "text/x-python",
   "name": "python",
   "nbconvert_exporter": "python",
   "pygments_lexer": "ipython3",
   "version": "3.8.2"
  }
 },
 "nbformat": 4,
 "nbformat_minor": 2
}
