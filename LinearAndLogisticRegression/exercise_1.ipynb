{
 "cells": [
  {
   "cell_type": "markdown",
   "metadata": {},
   "source": [
    " ## Exercise 1: Multivariate regression"
   ]
  },
  {
   "cell_type": "code",
   "execution_count": 1,
   "metadata": {},
   "outputs": [],
   "source": [
    "import numpy as np\n",
    "import matplotlib.pyplot as plt\n",
    "import utils\n",
    "\n",
    "X = np.loadtxt('A2_datasets_2020/GPUbenchmark.csv', delimiter=',', usecols=(0,1,2,3,4,5))\n",
    "y = np.loadtxt('A2_datasets_2020/GPUbenchmark.csv', delimiter=',', usecols=6)\n",
    "\n",
    "to_predict = np.array([[1, 2432, 1607, 1683, 8, 8, 256]])\n",
    "to_predict_2 = np.array([[2432, 1607, 1683, 8, 8, 256]])"
   ]
  },
  {
   "cell_type": "markdown",
   "metadata": {},
   "source": [
    " Function to plot the normalized values and make shore that each Xi is centralized around zero"
   ]
  },
  {
   "cell_type": "code",
   "execution_count": 2,
   "metadata": {},
   "outputs": [],
   "source": [
    "def plot_cols(Xn):\n",
    "    plt.figure(figsize=(15,8))\n",
    "    for i in range(1, 7):\n",
    "        plt.subplot(2, 3, i)\n",
    "        for j in range(len(Xn)):\n",
    "            plt.scatter(Xn[j][i - 1], y[j])\n",
    "    plt.suptitle('GPU benchmark')\n",
    "    plt.show()"
   ]
  },
  {
   "cell_type": "markdown",
   "metadata": {},
   "source": [
    " Normalize values in X and plot Xn. Normalization is done to speed up the calculation in gradient decent"
   ]
  },
  {
   "cell_type": "code",
   "execution_count": 3,
   "metadata": {},
   "outputs": [
    {
     "data": {
      "image/png": "[encoded data removed]",
      "text/plain": [
       "<Figure size 1080x576 with 6 Axes>"
      ]
     },
     "metadata": {
      "needs_background": "light"
     },
     "output_type": "display_data"
    }
   ],
   "source": [
    "Xn = utils.normalize_matrix(X)\n",
    "plot_cols(Xn)"
   ]
  },
  {
   "cell_type": "markdown",
   "metadata": {},
   "source": [
    " Extend Xn and X.\n",
    " Xne to use with the gradient decent function and Xe to use with the normal equation function"
   ]
  },
  {
   "cell_type": "code",
   "execution_count": 4,
   "metadata": {},
   "outputs": [],
   "source": [
    "Xne = utils.extend_matrix(Xn)\n",
    "Xe = utils.extend_matrix(X)"
   ]
  },
  {
   "cell_type": "markdown",
   "metadata": {},
   "source": [
    " Calculate beta using the normal equation, calculating the cost J(beta) and make prediction with model"
   ]
  },
  {
   "cell_type": "code",
   "execution_count": 5,
   "metadata": {},
   "outputs": [],
   "source": [
    "beta = utils.normal_equation(Xe, y)\n",
    "J = utils.cost_function(Xe, y, beta)\n",
    "normal_equation_result = to_predict.dot(beta)"
   ]
  },
  {
   "cell_type": "markdown",
   "metadata": {},
   "source": [
    " Normalizing of given graphic card values (not extended) and extend the normalized values\n",
    " to use with the gradient decent function. Normalization is done to speed up the calculation in gradient decent"
   ]
  },
  {
   "cell_type": "code",
   "execution_count": 6,
   "metadata": {},
   "outputs": [],
   "source": [
    "normalized_predict = utils.normalize_matrix_with_value(X, to_predict_2)\n",
    "normalized_predict_Xe = utils.extend_matrix(normalized_predict)"
   ]
  },
  {
   "cell_type": "markdown",
   "metadata": {},
   "source": [
    " Calculate beta using Gradient decent, calculating the cost J(beta) and make predicition with model"
   ]
  },
  {
   "cell_type": "code",
   "execution_count": 7,
   "metadata": {},
   "outputs": [],
   "source": [
    "beta_gradian = utils.gradient_decent(Xne, y, 7500, 0.01)\n",
    "J_gradiant = utils.cost_function(Xne, y, beta_gradian)\n",
    "gradiant_decent_result = normalized_predict_Xe.dot(beta_gradian)"
   ]
  },
  {
   "cell_type": "markdown",
   "metadata": {},
   "source": [
    "Round the results to three decimals, the benchmarks in y has one decimal but to tune the alfa and number of iterations in gradient decent it is more interesting to see at least three decimals."
   ]
  },
  {
   "cell_type": "code",
   "execution_count": 8,
   "metadata": {},
   "outputs": [
    {
     "name": "stdout",
     "output_type": "stream",
     "text": [
      "Benchmark result using the normal equation (non-normalized values): 110.804\n",
      "The cost J(beta) when using the normal equation: 12.396\n",
      "Benchmark result using the gradient decent (normalized values): 110.804\n",
      "The cost J(beta) using gradient decent (normalized values): 12.396\n"
     ]
    }
   ],
   "source": [
    "normal_equation_result_round = round(np.sum(normal_equation_result), 3)\n",
    "gradiant_decent_result_round = round(np.sum(gradiant_decent_result), 3)\n",
    "print('Benchmark result using the normal equation (non-normalized values):', normal_equation_result_round)\n",
    "print('The cost J(beta) when using the normal equation:', round(J, 3))\n",
    "print('Benchmark result using the gradient decent (normalized values):', gradiant_decent_result_round)\n",
    "print('The cost J(beta) using gradient decent (normalized values):',round(J_gradiant, 3))"
   ]
  },
  {
   "cell_type": "markdown",
   "metadata": {},
   "source": [
    " 7500 iteration results in an exact result(using three decimals) from the gradient decent and the normal equation\n",
    " The result is as seen 1% within the the final cost for the normal equation"
   ]
  }
 ],
 "metadata": {
  "file_extension": ".py",
  "kernelspec": {
   "display_name": "Python 3",
   "language": "python",
   "name": "python3"
  },
  "language_info": {
   "codemirror_mode": {
    "name": "ipython",
    "version": 3
   },
   "file_extension": ".py",
   "mimetype": "text/x-python",
   "name": "python",
   "nbconvert_exporter": "python",
   "pygments_lexer": "ipython3",
   "version": "3.8.2"
  },
  "mimetype": "text/x-python",
  "name": "python",
  "npconvert_exporter": "python",
  "pygments_lexer": "ipython3",
  "version": 3
 },
 "nbformat": 4,
 "nbformat_minor": 2
}
