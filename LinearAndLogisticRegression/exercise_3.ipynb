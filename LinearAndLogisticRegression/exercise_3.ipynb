{
 "cells": [
  {
   "cell_type": "markdown",
   "metadata": {},
   "source": [
    " ## Exercise 1: Multivariate Logistic regression"
   ]
  },
  {
   "cell_type": "code",
   "execution_count": 9,
   "metadata": {},
   "outputs": [],
   "source": [
    "import numpy as np\n",
    "import matplotlib.pyplot as plt\n",
    "import utils\n",
    "data = np.loadtxt('A2_datasets_2020/breast_cancer.csv', delimiter=',')\n",
    "np.random.shuffle(data)"
   ]
  },
  {
   "cell_type": "markdown",
   "metadata": {},
   "source": [
    " <ul>\n",
    "   <li>Replace the responses 2 and 4 with 0 and 1</li>\n",
    "   <li>Divide the data into a training and a test set. Training set 80% and test set 20% of the dataset</li>\n",
    "   <li>zero = benign<br>one = malignant</li>\n",
    " </ul>"
   ]
  },
  {
   "cell_type": "code",
   "execution_count": 10,
   "metadata": {},
   "outputs": [],
   "source": [
    "d = np.where(data[:,9] > 2, 0, 1)\n",
    "data[:,9] = d[:]\n",
    "\n",
    "training, test = data[:546,:], data[546:,:] # 80% for training and 20% for testing\n",
    "X_train = training[:,:9]\n",
    "y_train = training[:,9]\n",
    "X_test = test[:,:9]\n",
    "y_test = test[:,9]"
   ]
  },
  {
   "cell_type": "markdown",
   "metadata": {},
   "source": [
    " <ul>\n",
    "   <li>Normalizing the features and extending the training set</li>\n",
    "   <li>Setting the learning rate and the number of iterations for the model using gradient decent</li>\n",
    " </ul>"
   ]
  },
  {
   "cell_type": "code",
   "execution_count": 11,
   "metadata": {},
   "outputs": [],
   "source": [
    "Xn_train = utils.normalize_matrix(X_train)\n",
    "Xne_train = utils.extend_matrix(Xn_train)\n",
    "learning_rate = 1.5\n",
    "n_iterations = 300"
   ]
  },
  {
   "cell_type": "markdown",
   "metadata": {},
   "source": [
    " Plot J(beta) as a function over iterations to tune the model"
   ]
  },
  {
   "cell_type": "code",
   "execution_count": 12,
   "metadata": {},
   "outputs": [
    {
     "name": "stdout",
     "output_type": "stream",
     "text": [
      "Learning rate: 1.5\n",
      "Number of iterations: 300\n",
      "Cost: 0.0629\n"
     ]
    },
    {
     "data": {
      "image/png": "[encoded data removed]",
      "text/plain": [
       "<Figure size 432x288 with 1 Axes>"
      ]
     },
     "metadata": {
      "needs_background": "light"
     },
     "output_type": "display_data"
    }
   ],
   "source": [
    "utils.plot_cost(Xne_train, y_train, n_iterations, learning_rate)\n",
    "plt.show()"
   ]
  },
  {
   "cell_type": "markdown",
   "metadata": {},
   "source": [
    " Training the model"
   ]
  },
  {
   "cell_type": "code",
   "execution_count": 13,
   "metadata": {},
   "outputs": [
    {
     "name": "stdout",
     "output_type": "stream",
     "text": [
      "Learning rate: 1.5\n",
      "Number of iterations: 300\n",
      "Cost: 0.06291343497955397\n"
     ]
    }
   ],
   "source": [
    "betas = utils.gradient_decent_2(Xne_train,y_train, n_iterations, learning_rate)\n",
    "cost = utils.logistic_cost(Xne_train.dot(betas), y_train)\n",
    "print('Learning rate:',learning_rate)\n",
    "print('Number of iterations:',n_iterations)\n",
    "print('Cost:', cost)"
   ]
  },
  {
   "cell_type": "markdown",
   "metadata": {},
   "source": [
    " Calculate training errors and accuracy"
   ]
  },
  {
   "cell_type": "code",
   "execution_count": 14,
   "metadata": {},
   "outputs": [
    {
     "name": "stdout",
     "output_type": "stream",
     "text": [
      "Traning errors: 11\n",
      "Training accuracy: 98.00%\n"
     ]
    }
   ],
   "source": [
    "utils.erros_and_accuracy(Xne_train, y_train, betas)"
   ]
  },
  {
   "cell_type": "markdown",
   "metadata": {},
   "source": [
    "<ul> \n",
    "    <li>Testing the model</li>\n",
    "</ul>"
   ]
  },
  {
   "cell_type": "code",
   "execution_count": 15,
   "metadata": {},
   "outputs": [
    {
     "name": "stdout",
     "output_type": "stream",
     "text": [
      "Learning rate: 1.5\n",
      "Number of iterations: 300\n",
      "Cost: 0.03764723898432936\n"
     ]
    }
   ],
   "source": [
    "Xn_test = utils.normalize_matrix(X_test)\n",
    "Xne_test = utils.extend_matrix(Xn_test) \n",
    "\n",
    "betas = utils.gradient_decent_2(Xne_test,y_test, n_iterations, learning_rate)\n",
    "cost = utils.logistic_cost(Xne_test.dot(betas), y_test)\n",
    "print('Learning rate:',learning_rate)\n",
    "print('Number of iterations:',n_iterations)\n",
    "print('Cost:', cost)"
   ]
  },
  {
   "cell_type": "markdown",
   "metadata": {},
   "source": [
    " Calculate training errors and accuracy"
   ]
  },
  {
   "cell_type": "code",
   "execution_count": 16,
   "metadata": {},
   "outputs": [
    {
     "name": "stdout",
     "output_type": "stream",
     "text": [
      "Traning errors: 3\n",
      "Training accuracy: 97.80%\n"
     ]
    }
   ],
   "source": [
    "utils.erros_and_accuracy(Xne_test, y_test, betas)\n",
    "   \n"
   ]
  },
  {
   "cell_type": "markdown",
   "metadata": {},
   "source": [
    "## Repeated runs\n",
    "<ol>\n",
    "    <li>Traning errors: 7, Training accuracy: 94.90%</li>\n",
    "    <li>Traning errors: 2, Training accuracy: 98.50%</li>\n",
    "    <li>Traning errors: 3, Training accuracy: 97.80%</li>\n",
    "</ol>"
   ]
  }
 ],
 "metadata": {
  "file_extension": ".py",
  "kernelspec": {
   "display_name": "Python 3",
   "language": "python",
   "name": "python3"
  },
  "language_info": {
   "codemirror_mode": {
    "name": "ipython",
    "version": 3
   },
   "file_extension": ".py",
   "mimetype": "text/x-python",
   "name": "python",
   "nbconvert_exporter": "python",
   "pygments_lexer": "ipython3",
   "version": "3.8.2"
  },
  "mimetype": "text/x-python",
  "name": "python",
  "npconvert_exporter": "python",
  "pygments_lexer": "ipython3",
  "version": 3
 },
 "nbformat": 4,
 "nbformat_minor": 2
}
